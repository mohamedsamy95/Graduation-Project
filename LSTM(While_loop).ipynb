{
  "nbformat": 4,
  "nbformat_minor": 0,
  "metadata": {
    "colab": {
      "name": "LSTM(While loop).ipynb",
      "provenance": [],
      "collapsed_sections": [],
      "machine_shape": "hm"
    },
    "kernelspec": {
      "name": "python3",
      "display_name": "Python 3"
    }
  },
  "cells": [
    {
      "cell_type": "code",
      "metadata": {
        "id": "18a8FtCKRNER",
        "colab_type": "code",
        "colab": {}
      },
      "source": [
        "#!wget  http://104.197.136.14/ds/2016.04/2016.04C.multisnr.pkl.bz2 \n",
        "  \n",
        "!pip install -U -q PyDrive\n",
        "import os\n",
        "from os import chdir, listdir, stat\n",
        "from sys import exit\n",
        "import ast\n",
        "from pydrive.auth import GoogleAuth\n",
        "from pydrive.drive import GoogleDrive\n",
        "from google.colab import auth\n",
        "from oauth2client.client import GoogleCredentials\n",
        "from pydrive.files import GoogleDriveFileList\n",
        "import googleapiclient.errors\n",
        "\n",
        "\n",
        "auth.authenticate_user()\n",
        "gauth = GoogleAuth()\n",
        "gauth.credentials = GoogleCredentials.get_application_default()\n",
        "drive = GoogleDrive(gauth)\n",
        "\n",
        "local_download_path = os.path.expanduser('~/data')\n",
        "try:\n",
        "  os.makedirs(local_download_path)\n",
        "except: pass\n",
        "\n",
        "def upload_files(drive, folder_id, src_files, src_folder_name='.'):\n",
        "    try:\n",
        "        chdir(src_folder_name)\n",
        "    except OSError:\n",
        "        print(src_folder_name + ' is missing')\n",
        "    for file1 in listdir('.'):\n",
        "        statinfo = stat(file1)\n",
        "        if file1 in src_files and statinfo.st_size > 0:\n",
        "            print('Uploading ' + file1)\n",
        "            f = drive.CreateFile(\n",
        "                {\"parents\": [{\"kind\": \"drive#fileLink\", \"id\": folder_id}]})\n",
        "            f.SetContentFile(file1)\n",
        "            f.Upload()\n",
        "\n",
        "def load_files(list_files):\n",
        "  file_list = drive.ListFile(\n",
        "    {'q': \"'1fxDxf14ZuxOQVKmP4qKKIQI1ZOqMO8a7' in parents\"}).GetList()\n",
        "\n",
        "  for f in file_list:\n",
        "    if f['title'] in list_files:\n",
        "      print('title: %s, id: %s' % (f['title'], f['id']))\n",
        "      fname = os.path.join(local_download_path, f['title'])\n",
        "      print('downloading to {}'.format(fname))\n",
        "      f_ = drive.CreateFile({'id': f['id']})\n",
        "      f_.GetContentFile(fname)  "
      ],
      "execution_count": null,
      "outputs": []
    },
    {
      "cell_type": "code",
      "metadata": {
        "id": "q_TYqMjq8_XQ",
        "colab_type": "code",
        "colab": {}
      },
      "source": [
        "import tensorflow as tf\n",
        "from tensorflow import keras\n",
        "import numpy as np"
      ],
      "execution_count": null,
      "outputs": []
    },
    {
      "cell_type": "code",
      "metadata": {
        "id": "Iexe4lJu9NBJ",
        "colab_type": "code",
        "colab": {
          "base_uri": "https://localhost:8080/",
          "height": 150
        },
        "outputId": "954f395d-4c25-4074-9f97-86e64fa00018"
      },
      "source": [
        "fashion_mnist = keras.datasets.fashion_mnist\n",
        "\n",
        "(train_images, train_labels), (test_images, test_labels) = fashion_mnist.load_data()"
      ],
      "execution_count": null,
      "outputs": [
        {
          "output_type": "stream",
          "text": [
            "Downloading data from https://storage.googleapis.com/tensorflow/tf-keras-datasets/train-labels-idx1-ubyte.gz\n",
            "32768/29515 [=================================] - 0s 0us/step\n",
            "Downloading data from https://storage.googleapis.com/tensorflow/tf-keras-datasets/train-images-idx3-ubyte.gz\n",
            "26427392/26421880 [==============================] - 1s 0us/step\n",
            "Downloading data from https://storage.googleapis.com/tensorflow/tf-keras-datasets/t10k-labels-idx1-ubyte.gz\n",
            "8192/5148 [===============================================] - 0s 0us/step\n",
            "Downloading data from https://storage.googleapis.com/tensorflow/tf-keras-datasets/t10k-images-idx3-ubyte.gz\n",
            "4423680/4422102 [==============================] - 0s 0us/step\n"
          ],
          "name": "stdout"
        }
      ]
    },
    {
      "cell_type": "code",
      "metadata": {
        "id": "MNVgn_sJ9U7H",
        "colab_type": "code",
        "colab": {}
      },
      "source": [
        "train_images = train_images / 255.0\n",
        "test_images = test_images / 255.0"
      ],
      "execution_count": null,
      "outputs": []
    },
    {
      "cell_type": "code",
      "metadata": {
        "id": "dglIWMKk9rQy",
        "colab_type": "code",
        "colab": {}
      },
      "source": [
        "#validation_images = train_images[50000:]\n",
        "#train_images = train_images[:50000]"
      ],
      "execution_count": null,
      "outputs": []
    },
    {
      "cell_type": "code",
      "metadata": {
        "id": "WhQrzm0h-VIg",
        "colab_type": "code",
        "colab": {}
      },
      "source": [
        "#validation_labels = train_labels[50000:]\n",
        "#train_labels = train_labels[:50000]"
      ],
      "execution_count": null,
      "outputs": []
    },
    {
      "cell_type": "code",
      "metadata": {
        "id": "JrscCops90HK",
        "colab_type": "code",
        "colab": {}
      },
      "source": [
        "# Reshape data to fit CNN model\n",
        "\n",
        "train_images = train_images.reshape(60000,28,28,1) #one channel only (greyscale)\n",
        "#validation_images = validation_images.reshape(10000,28,28,1)\n",
        "test_images = test_images.reshape(10000,28,28,1)"
      ],
      "execution_count": null,
      "outputs": []
    },
    {
      "cell_type": "code",
      "metadata": {
        "id": "MoiUtprf-G7r",
        "colab_type": "code",
        "colab": {
          "base_uri": "https://localhost:8080/",
          "height": 50
        },
        "outputId": "e5f919b4-22a9-4313-d93e-1eda794e25bc"
      },
      "source": [
        "from keras.utils import to_categorical\n",
        "#one-hot encode target column\n",
        "train_labels = to_categorical(train_labels)\n",
        "#validation_labels = to_categorical(validation_labels)\n",
        "test_labels = to_categorical(test_labels)\n",
        "train_labels[0]"
      ],
      "execution_count": null,
      "outputs": [
        {
          "output_type": "stream",
          "text": [
            "Using TensorFlow backend.\n"
          ],
          "name": "stderr"
        },
        {
          "output_type": "execute_result",
          "data": {
            "text/plain": [
              "array([0., 0., 0., 0., 0., 0., 0., 0., 0., 1.], dtype=float32)"
            ]
          },
          "metadata": {
            "tags": []
          },
          "execution_count": 7
        }
      ]
    },
    {
      "cell_type": "code",
      "metadata": {
        "id": "3V8_6YLYg2xj",
        "colab_type": "code",
        "colab": {
          "base_uri": "https://localhost:8080/",
          "height": 517
        },
        "outputId": "969d8035-c3dc-4848-bad2-6f634106f262"
      },
      "source": [
        "temperature = 1.2\n",
        "model = keras.Sequential([\n",
        "    keras.layers.Conv2D(128, kernel_size=3, activation='relu', input_shape=(28,28,1) , batch_input_shape =(1,28,28,1)),\n",
        "    keras.layers.Dropout(0.3),\n",
        "    keras.layers.Conv2D(32, kernel_size=3, activation='relu'),\n",
        "    keras.layers.Dropout(0.3),\n",
        "    keras.layers.Reshape((1,18432)),\n",
        "    keras.layers.LSTM(32, stateful = True, input_shape = (1,18432),  batch_size=1),\n",
        "    keras.layers.Dropout(0.3),\n",
        "    keras.layers.Dense(32),\n",
        "    keras.layers.Dropout(0.3),\n",
        "    keras.layers.Lambda(lambda x: x / temperature ),\n",
        "    keras.layers.Dense(10, activation='softmax')\n",
        "])\n",
        "model.summary()\n",
        "\n"
      ],
      "execution_count": null,
      "outputs": [
        {
          "output_type": "stream",
          "text": [
            "Model: \"sequential\"\n",
            "_________________________________________________________________\n",
            "Layer (type)                 Output Shape              Param #   \n",
            "=================================================================\n",
            "conv2d (Conv2D)              (1, 26, 26, 128)          1280      \n",
            "_________________________________________________________________\n",
            "dropout (Dropout)            (1, 26, 26, 128)          0         \n",
            "_________________________________________________________________\n",
            "conv2d_1 (Conv2D)            (1, 24, 24, 32)           36896     \n",
            "_________________________________________________________________\n",
            "dropout_1 (Dropout)          (1, 24, 24, 32)           0         \n",
            "_________________________________________________________________\n",
            "reshape (Reshape)            (1, 1, 18432)             0         \n",
            "_________________________________________________________________\n",
            "lstm (LSTM)                  (1, 32)                   2363520   \n",
            "_________________________________________________________________\n",
            "dropout_2 (Dropout)          (1, 32)                   0         \n",
            "_________________________________________________________________\n",
            "dense (Dense)                (1, 32)                   1056      \n",
            "_________________________________________________________________\n",
            "dropout_3 (Dropout)          (1, 32)                   0         \n",
            "_________________________________________________________________\n",
            "lambda (Lambda)              (1, 32)                   0         \n",
            "_________________________________________________________________\n",
            "dense_1 (Dense)              (1, 10)                   330       \n",
            "=================================================================\n",
            "Total params: 2,403,082\n",
            "Trainable params: 2,403,082\n",
            "Non-trainable params: 0\n",
            "_________________________________________________________________\n"
          ],
          "name": "stdout"
        }
      ]
    },
    {
      "cell_type": "code",
      "metadata": {
        "id": "Owfb2H2U9EkO",
        "colab_type": "code",
        "colab": {}
      },
      "source": [
        "model.compile(optimizer='adam',\n",
        "              loss=tf.keras.losses.categorical_crossentropy,\n",
        "              metrics=['accuracy'])"
      ],
      "execution_count": null,
      "outputs": []
    },
    {
      "cell_type": "code",
      "metadata": {
        "id": "3xZUr-eGzrPo",
        "colab_type": "code",
        "colab": {}
      },
      "source": [
        "# Instantiate a metric object\n",
        "accuracy = tf.keras.metrics.CategoricalAccuracy()\n",
        "loss_fn = tf.keras.losses.categorical_crossentropy\n",
        "optimizer = tf.keras.optimizers.Adam(learning_rate=1e-3)"
      ],
      "execution_count": null,
      "outputs": []
    },
    {
      "cell_type": "code",
      "metadata": {
        "id": "82ulWBwmvltA",
        "colab_type": "code",
        "colab": {
          "base_uri": "https://localhost:8080/",
          "height": 1000
        },
        "outputId": "a94a9802-6b91-4639-cbb2-495fd0500c64"
      },
      "source": [
        "#Train\n",
        "\n",
        "for epoch in range(10):\n",
        "\n",
        "  # Iterate over the batches of a dataset.\n",
        "  for step, (x, y) in enumerate(zip(train_images, train_labels)):\n",
        "    with tf.GradientTape() as tape:\n",
        "      x = x.reshape(1, 28, 28, 1) #batch size equals 1\n",
        "      probs = model(x)\n",
        "\n",
        "      i=0\n",
        "      input_LSTM = x\n",
        "      for n in range(0,5):\n",
        "        output = model.layers[n](input_LSTM)\n",
        "        input_LSTM = output\n",
        "\n",
        "      #random_value(0,1) < 1-tf.reduce_max(probs)\n",
        "      #Standard uniform sampling (ex. np.random.rand)\n",
        "      #Softmax temperature\n",
        "      #Check tape update at the end of the loop\n",
        "      #check example images\n",
        "      while np.random.uniform(0,1) < 1-tf.reduce_max(probs):\n",
        "        for n in range(5,11):\n",
        "          if n == 5:\n",
        "            output = model.layers[n](input_LSTM)  \n",
        "          else:\n",
        "            output = model.layers[n](input)\n",
        "          input = output\n",
        "        \n",
        "        probs = output\n",
        "      \n",
        "      model.reset_states()\n",
        "\n",
        "      # Compute the loss value for this batch.\n",
        "      y = y.reshape(1,10)\n",
        "      loss_value = loss_fn(y, probs)\n",
        "\n",
        "    # Update the state of the `accuracy` metric.\n",
        "    accuracy.update_state(y, probs)\n",
        "\n",
        "    # Update the weights of the model to minimize the loss value.\n",
        "    gradients = tape.gradient(loss_value, model.trainable_weights)\n",
        "    optimizer.apply_gradients(zip(gradients, model.trainable_weights))\n",
        "\n",
        "    if step % 10000 == 0:\n",
        "      print('Step:', step )        \n",
        "      print('Total running accuracy so far: %.3f' % accuracy.result())\n",
        "\n",
        "\n",
        "  print('Epoch:', epoch + 1)        \n",
        "  print('Total running accuracy for this batch: %.3f' % accuracy.result())\n",
        "\n",
        "  # Reset the metric's state at the end of an epoch\n",
        "  accuracy.reset_states()"
      ],
      "execution_count": null,
      "outputs": [
        {
          "output_type": "stream",
          "text": [
            "WARNING:tensorflow:Layer conv2d is casting an input tensor from dtype float64 to the layer's dtype of float32, which is new behavior in TensorFlow 2.  The layer has dtype float32 because it's dtype defaults to floatx.\n",
            "\n",
            "If you intended to run this layer in float32, you can safely ignore this warning. If in doubt, this warning is likely only an issue if you are porting a TensorFlow 1.X model to TensorFlow 2.\n",
            "\n",
            "To change all layers to have dtype float64 by default, call `tf.keras.backend.set_floatx('float64')`. To change just this layer, pass dtype='float64' to the layer constructor. If you are the author of this layer, you can disable autocasting by passing autocast=False to the base Layer constructor.\n",
            "\n",
            "Step: 0\n",
            "Total running accuracy so far: 0.000\n",
            "Step: 10000\n",
            "Total running accuracy so far: 0.756\n",
            "Step: 20000\n",
            "Total running accuracy so far: 0.777\n",
            "Step: 30000\n",
            "Total running accuracy so far: 0.787\n",
            "Step: 40000\n",
            "Total running accuracy so far: 0.790\n",
            "Step: 50000\n",
            "Total running accuracy so far: 0.791\n",
            "Epoch: 1\n",
            "Total running accuracy for this batch: 0.791\n",
            "Step: 0\n",
            "Total running accuracy so far: 1.000\n",
            "Step: 10000\n",
            "Total running accuracy so far: 0.794\n",
            "Step: 20000\n",
            "Total running accuracy so far: 0.797\n",
            "Step: 30000\n",
            "Total running accuracy so far: 0.804\n",
            "Step: 40000\n",
            "Total running accuracy so far: 0.806\n",
            "Step: 50000\n",
            "Total running accuracy so far: 0.808\n",
            "Epoch: 2\n",
            "Total running accuracy for this batch: 0.807\n",
            "Step: 0\n",
            "Total running accuracy so far: 1.000\n",
            "Step: 10000\n",
            "Total running accuracy so far: 0.810\n",
            "Step: 20000\n",
            "Total running accuracy so far: 0.792\n",
            "Step: 30000\n",
            "Total running accuracy so far: 0.795\n",
            "Step: 40000\n",
            "Total running accuracy so far: 0.793\n",
            "Step: 50000\n",
            "Total running accuracy so far: 0.794\n",
            "Epoch: 3\n",
            "Total running accuracy for this batch: 0.795\n",
            "Step: 0\n",
            "Total running accuracy so far: 1.000\n",
            "Step: 10000\n",
            "Total running accuracy so far: 0.798\n",
            "Step: 20000\n",
            "Total running accuracy so far: 0.803\n",
            "Step: 30000\n",
            "Total running accuracy so far: 0.799\n",
            "Step: 40000\n",
            "Total running accuracy so far: 0.802\n",
            "Step: 50000\n",
            "Total running accuracy so far: 0.804\n",
            "Epoch: 4\n",
            "Total running accuracy for this batch: 0.806\n",
            "Step: 0\n",
            "Total running accuracy so far: 1.000\n",
            "Step: 10000\n",
            "Total running accuracy so far: 0.802\n",
            "Step: 20000\n",
            "Total running accuracy so far: 0.799\n",
            "Step: 30000\n",
            "Total running accuracy so far: 0.799\n",
            "Step: 40000\n",
            "Total running accuracy so far: 0.798\n",
            "Step: 50000\n",
            "Total running accuracy so far: 0.796\n",
            "Epoch: 5\n",
            "Total running accuracy for this batch: 0.797\n",
            "Step: 0\n",
            "Total running accuracy so far: 1.000\n",
            "Step: 10000\n",
            "Total running accuracy so far: 0.810\n",
            "Step: 20000\n",
            "Total running accuracy so far: 0.806\n",
            "Step: 30000\n",
            "Total running accuracy so far: 0.804\n",
            "Step: 40000\n",
            "Total running accuracy so far: 0.807\n",
            "Step: 50000\n",
            "Total running accuracy so far: 0.799\n"
          ],
          "name": "stdout"
        },
        {
          "output_type": "error",
          "ename": "KeyboardInterrupt",
          "evalue": "ignored",
          "traceback": [
            "\u001b[0;31m---------------------------------------------------------------------------\u001b[0m",
            "\u001b[0;31m_FallbackException\u001b[0m                        Traceback (most recent call last)",
            "\u001b[0;32m/usr/local/lib/python3.6/dist-packages/tensorflow/python/ops/gen_array_ops.py\u001b[0m in \u001b[0;36mtranspose\u001b[0;34m(x, perm, name)\u001b[0m\n\u001b[1;32m  11168\u001b[0m         \u001b[0m_ctx\u001b[0m\u001b[0;34m.\u001b[0m\u001b[0m_context_handle\u001b[0m\u001b[0;34m,\u001b[0m \u001b[0mtld\u001b[0m\u001b[0;34m.\u001b[0m\u001b[0mdevice_name\u001b[0m\u001b[0;34m,\u001b[0m \u001b[0;34m\"Transpose\"\u001b[0m\u001b[0;34m,\u001b[0m \u001b[0mname\u001b[0m\u001b[0;34m,\u001b[0m\u001b[0;34m\u001b[0m\u001b[0;34m\u001b[0m\u001b[0m\n\u001b[0;32m> 11169\u001b[0;31m         tld.op_callbacks, x, perm)\n\u001b[0m\u001b[1;32m  11170\u001b[0m       \u001b[0;32mreturn\u001b[0m \u001b[0m_result\u001b[0m\u001b[0;34m\u001b[0m\u001b[0;34m\u001b[0m\u001b[0m\n",
            "\u001b[0;31m_FallbackException\u001b[0m: This function does not handle the case of the path where all inputs are not already EagerTensors.",
            "\nDuring handling of the above exception, another exception occurred:\n",
            "\u001b[0;31mKeyboardInterrupt\u001b[0m                         Traceback (most recent call last)",
            "\u001b[0;32m<ipython-input-12-cb81a0de9e7f>\u001b[0m in \u001b[0;36m<module>\u001b[0;34m()\u001b[0m\n\u001b[1;32m      7\u001b[0m     \u001b[0;32mwith\u001b[0m \u001b[0mtf\u001b[0m\u001b[0;34m.\u001b[0m\u001b[0mGradientTape\u001b[0m\u001b[0;34m(\u001b[0m\u001b[0;34m)\u001b[0m \u001b[0;32mas\u001b[0m \u001b[0mtape\u001b[0m\u001b[0;34m:\u001b[0m\u001b[0;34m\u001b[0m\u001b[0;34m\u001b[0m\u001b[0m\n\u001b[1;32m      8\u001b[0m       \u001b[0mx\u001b[0m \u001b[0;34m=\u001b[0m \u001b[0mx\u001b[0m\u001b[0;34m.\u001b[0m\u001b[0mreshape\u001b[0m\u001b[0;34m(\u001b[0m\u001b[0;36m1\u001b[0m\u001b[0;34m,\u001b[0m \u001b[0;36m28\u001b[0m\u001b[0;34m,\u001b[0m \u001b[0;36m28\u001b[0m\u001b[0;34m,\u001b[0m \u001b[0;36m1\u001b[0m\u001b[0;34m)\u001b[0m \u001b[0;31m#batch size equals 1\u001b[0m\u001b[0;34m\u001b[0m\u001b[0;34m\u001b[0m\u001b[0m\n\u001b[0;32m----> 9\u001b[0;31m       \u001b[0mprobs\u001b[0m \u001b[0;34m=\u001b[0m \u001b[0mmodel\u001b[0m\u001b[0;34m(\u001b[0m\u001b[0mx\u001b[0m\u001b[0;34m)\u001b[0m\u001b[0;34m\u001b[0m\u001b[0;34m\u001b[0m\u001b[0m\n\u001b[0m\u001b[1;32m     10\u001b[0m \u001b[0;34m\u001b[0m\u001b[0m\n\u001b[1;32m     11\u001b[0m       \u001b[0mi\u001b[0m\u001b[0;34m=\u001b[0m\u001b[0;36m0\u001b[0m\u001b[0;34m\u001b[0m\u001b[0;34m\u001b[0m\u001b[0m\n",
            "\u001b[0;32m/usr/local/lib/python3.6/dist-packages/tensorflow/python/keras/engine/base_layer.py\u001b[0m in \u001b[0;36m__call__\u001b[0;34m(self, *args, **kwargs)\u001b[0m\n\u001b[1;32m    966\u001b[0m           with base_layer_utils.autocast_context_manager(\n\u001b[1;32m    967\u001b[0m               self._compute_dtype):\n\u001b[0;32m--> 968\u001b[0;31m             \u001b[0moutputs\u001b[0m \u001b[0;34m=\u001b[0m \u001b[0mself\u001b[0m\u001b[0;34m.\u001b[0m\u001b[0mcall\u001b[0m\u001b[0;34m(\u001b[0m\u001b[0mcast_inputs\u001b[0m\u001b[0;34m,\u001b[0m \u001b[0;34m*\u001b[0m\u001b[0margs\u001b[0m\u001b[0;34m,\u001b[0m \u001b[0;34m**\u001b[0m\u001b[0mkwargs\u001b[0m\u001b[0;34m)\u001b[0m\u001b[0;34m\u001b[0m\u001b[0;34m\u001b[0m\u001b[0m\n\u001b[0m\u001b[1;32m    969\u001b[0m           \u001b[0mself\u001b[0m\u001b[0;34m.\u001b[0m\u001b[0m_handle_activity_regularization\u001b[0m\u001b[0;34m(\u001b[0m\u001b[0minputs\u001b[0m\u001b[0;34m,\u001b[0m \u001b[0moutputs\u001b[0m\u001b[0;34m)\u001b[0m\u001b[0;34m\u001b[0m\u001b[0;34m\u001b[0m\u001b[0m\n\u001b[1;32m    970\u001b[0m           \u001b[0mself\u001b[0m\u001b[0;34m.\u001b[0m\u001b[0m_set_mask_metadata\u001b[0m\u001b[0;34m(\u001b[0m\u001b[0minputs\u001b[0m\u001b[0;34m,\u001b[0m \u001b[0moutputs\u001b[0m\u001b[0;34m,\u001b[0m \u001b[0minput_masks\u001b[0m\u001b[0;34m)\u001b[0m\u001b[0;34m\u001b[0m\u001b[0;34m\u001b[0m\u001b[0m\n",
            "\u001b[0;32m/usr/local/lib/python3.6/dist-packages/tensorflow/python/keras/engine/sequential.py\u001b[0m in \u001b[0;36mcall\u001b[0;34m(self, inputs, training, mask)\u001b[0m\n\u001b[1;32m    275\u001b[0m       \u001b[0;32mif\u001b[0m \u001b[0;32mnot\u001b[0m \u001b[0mself\u001b[0m\u001b[0;34m.\u001b[0m\u001b[0mbuilt\u001b[0m\u001b[0;34m:\u001b[0m\u001b[0;34m\u001b[0m\u001b[0;34m\u001b[0m\u001b[0m\n\u001b[1;32m    276\u001b[0m         \u001b[0mself\u001b[0m\u001b[0;34m.\u001b[0m\u001b[0m_init_graph_network\u001b[0m\u001b[0;34m(\u001b[0m\u001b[0mself\u001b[0m\u001b[0;34m.\u001b[0m\u001b[0minputs\u001b[0m\u001b[0;34m,\u001b[0m \u001b[0mself\u001b[0m\u001b[0;34m.\u001b[0m\u001b[0moutputs\u001b[0m\u001b[0;34m,\u001b[0m \u001b[0mname\u001b[0m\u001b[0;34m=\u001b[0m\u001b[0mself\u001b[0m\u001b[0;34m.\u001b[0m\u001b[0mname\u001b[0m\u001b[0;34m)\u001b[0m\u001b[0;34m\u001b[0m\u001b[0;34m\u001b[0m\u001b[0m\n\u001b[0;32m--> 277\u001b[0;31m       \u001b[0;32mreturn\u001b[0m \u001b[0msuper\u001b[0m\u001b[0;34m(\u001b[0m\u001b[0mSequential\u001b[0m\u001b[0;34m,\u001b[0m \u001b[0mself\u001b[0m\u001b[0;34m)\u001b[0m\u001b[0;34m.\u001b[0m\u001b[0mcall\u001b[0m\u001b[0;34m(\u001b[0m\u001b[0minputs\u001b[0m\u001b[0;34m,\u001b[0m \u001b[0mtraining\u001b[0m\u001b[0;34m=\u001b[0m\u001b[0mtraining\u001b[0m\u001b[0;34m,\u001b[0m \u001b[0mmask\u001b[0m\u001b[0;34m=\u001b[0m\u001b[0mmask\u001b[0m\u001b[0;34m)\u001b[0m\u001b[0;34m\u001b[0m\u001b[0;34m\u001b[0m\u001b[0m\n\u001b[0m\u001b[1;32m    278\u001b[0m \u001b[0;34m\u001b[0m\u001b[0m\n\u001b[1;32m    279\u001b[0m     \u001b[0moutputs\u001b[0m \u001b[0;34m=\u001b[0m \u001b[0minputs\u001b[0m  \u001b[0;31m# handle the corner case where self.layers is empty\u001b[0m\u001b[0;34m\u001b[0m\u001b[0;34m\u001b[0m\u001b[0m\n",
            "\u001b[0;32m/usr/local/lib/python3.6/dist-packages/tensorflow/python/keras/engine/network.py\u001b[0m in \u001b[0;36mcall\u001b[0;34m(self, inputs, training, mask)\u001b[0m\n\u001b[1;32m    717\u001b[0m     return self._run_internal_graph(\n\u001b[1;32m    718\u001b[0m         \u001b[0minputs\u001b[0m\u001b[0;34m,\u001b[0m \u001b[0mtraining\u001b[0m\u001b[0;34m=\u001b[0m\u001b[0mtraining\u001b[0m\u001b[0;34m,\u001b[0m \u001b[0mmask\u001b[0m\u001b[0;34m=\u001b[0m\u001b[0mmask\u001b[0m\u001b[0;34m,\u001b[0m\u001b[0;34m\u001b[0m\u001b[0;34m\u001b[0m\u001b[0m\n\u001b[0;32m--> 719\u001b[0;31m         convert_kwargs_to_constants=base_layer_utils.call_context().saving)\n\u001b[0m\u001b[1;32m    720\u001b[0m \u001b[0;34m\u001b[0m\u001b[0m\n\u001b[1;32m    721\u001b[0m   \u001b[0;32mdef\u001b[0m \u001b[0mcompute_output_shape\u001b[0m\u001b[0;34m(\u001b[0m\u001b[0mself\u001b[0m\u001b[0;34m,\u001b[0m \u001b[0minput_shape\u001b[0m\u001b[0;34m)\u001b[0m\u001b[0;34m:\u001b[0m\u001b[0;34m\u001b[0m\u001b[0;34m\u001b[0m\u001b[0m\n",
            "\u001b[0;32m/usr/local/lib/python3.6/dist-packages/tensorflow/python/keras/engine/network.py\u001b[0m in \u001b[0;36m_run_internal_graph\u001b[0;34m(self, inputs, training, mask, convert_kwargs_to_constants)\u001b[0m\n\u001b[1;32m    886\u001b[0m \u001b[0;34m\u001b[0m\u001b[0m\n\u001b[1;32m    887\u001b[0m           \u001b[0;31m# Compute outputs.\u001b[0m\u001b[0;34m\u001b[0m\u001b[0;34m\u001b[0m\u001b[0;34m\u001b[0m\u001b[0m\n\u001b[0;32m--> 888\u001b[0;31m           \u001b[0moutput_tensors\u001b[0m \u001b[0;34m=\u001b[0m \u001b[0mlayer\u001b[0m\u001b[0;34m(\u001b[0m\u001b[0mcomputed_tensors\u001b[0m\u001b[0;34m,\u001b[0m \u001b[0;34m**\u001b[0m\u001b[0mkwargs\u001b[0m\u001b[0;34m)\u001b[0m\u001b[0;34m\u001b[0m\u001b[0;34m\u001b[0m\u001b[0m\n\u001b[0m\u001b[1;32m    889\u001b[0m \u001b[0;34m\u001b[0m\u001b[0m\n\u001b[1;32m    890\u001b[0m           \u001b[0;31m# Update tensor_dict.\u001b[0m\u001b[0;34m\u001b[0m\u001b[0;34m\u001b[0m\u001b[0;34m\u001b[0m\u001b[0m\n",
            "\u001b[0;32m/usr/local/lib/python3.6/dist-packages/tensorflow/python/keras/layers/recurrent.py\u001b[0m in \u001b[0;36m__call__\u001b[0;34m(self, inputs, initial_state, constants, **kwargs)\u001b[0m\n\u001b[1;32m    652\u001b[0m \u001b[0;34m\u001b[0m\u001b[0m\n\u001b[1;32m    653\u001b[0m     \u001b[0;32mif\u001b[0m \u001b[0minitial_state\u001b[0m \u001b[0;32mis\u001b[0m \u001b[0;32mNone\u001b[0m \u001b[0;32mand\u001b[0m \u001b[0mconstants\u001b[0m \u001b[0;32mis\u001b[0m \u001b[0;32mNone\u001b[0m\u001b[0;34m:\u001b[0m\u001b[0;34m\u001b[0m\u001b[0;34m\u001b[0m\u001b[0m\n\u001b[0;32m--> 654\u001b[0;31m       \u001b[0;32mreturn\u001b[0m \u001b[0msuper\u001b[0m\u001b[0;34m(\u001b[0m\u001b[0mRNN\u001b[0m\u001b[0;34m,\u001b[0m \u001b[0mself\u001b[0m\u001b[0;34m)\u001b[0m\u001b[0;34m.\u001b[0m\u001b[0m__call__\u001b[0m\u001b[0;34m(\u001b[0m\u001b[0minputs\u001b[0m\u001b[0;34m,\u001b[0m \u001b[0;34m**\u001b[0m\u001b[0mkwargs\u001b[0m\u001b[0;34m)\u001b[0m\u001b[0;34m\u001b[0m\u001b[0;34m\u001b[0m\u001b[0m\n\u001b[0m\u001b[1;32m    655\u001b[0m \u001b[0;34m\u001b[0m\u001b[0m\n\u001b[1;32m    656\u001b[0m     \u001b[0;31m# If any of `initial_state` or `constants` are specified and are Keras\u001b[0m\u001b[0;34m\u001b[0m\u001b[0;34m\u001b[0m\u001b[0;34m\u001b[0m\u001b[0m\n",
            "\u001b[0;32m/usr/local/lib/python3.6/dist-packages/tensorflow/python/keras/engine/base_layer.py\u001b[0m in \u001b[0;36m__call__\u001b[0;34m(self, *args, **kwargs)\u001b[0m\n\u001b[1;32m    966\u001b[0m           with base_layer_utils.autocast_context_manager(\n\u001b[1;32m    967\u001b[0m               self._compute_dtype):\n\u001b[0;32m--> 968\u001b[0;31m             \u001b[0moutputs\u001b[0m \u001b[0;34m=\u001b[0m \u001b[0mself\u001b[0m\u001b[0;34m.\u001b[0m\u001b[0mcall\u001b[0m\u001b[0;34m(\u001b[0m\u001b[0mcast_inputs\u001b[0m\u001b[0;34m,\u001b[0m \u001b[0;34m*\u001b[0m\u001b[0margs\u001b[0m\u001b[0;34m,\u001b[0m \u001b[0;34m**\u001b[0m\u001b[0mkwargs\u001b[0m\u001b[0;34m)\u001b[0m\u001b[0;34m\u001b[0m\u001b[0;34m\u001b[0m\u001b[0m\n\u001b[0m\u001b[1;32m    969\u001b[0m           \u001b[0mself\u001b[0m\u001b[0;34m.\u001b[0m\u001b[0m_handle_activity_regularization\u001b[0m\u001b[0;34m(\u001b[0m\u001b[0minputs\u001b[0m\u001b[0;34m,\u001b[0m \u001b[0moutputs\u001b[0m\u001b[0;34m)\u001b[0m\u001b[0;34m\u001b[0m\u001b[0;34m\u001b[0m\u001b[0m\n\u001b[1;32m    970\u001b[0m           \u001b[0mself\u001b[0m\u001b[0;34m.\u001b[0m\u001b[0m_set_mask_metadata\u001b[0m\u001b[0;34m(\u001b[0m\u001b[0minputs\u001b[0m\u001b[0;34m,\u001b[0m \u001b[0moutputs\u001b[0m\u001b[0;34m,\u001b[0m \u001b[0minput_masks\u001b[0m\u001b[0;34m)\u001b[0m\u001b[0;34m\u001b[0m\u001b[0;34m\u001b[0m\u001b[0m\n",
            "\u001b[0;32m/usr/local/lib/python3.6/dist-packages/tensorflow/python/keras/layers/recurrent_v2.py\u001b[0m in \u001b[0;36mcall\u001b[0;34m(self, inputs, mask, training, initial_state)\u001b[0m\n\u001b[1;32m   1182\u001b[0m         \u001b[0;32melse\u001b[0m\u001b[0;34m:\u001b[0m\u001b[0;34m\u001b[0m\u001b[0;34m\u001b[0m\u001b[0m\n\u001b[1;32m   1183\u001b[0m           last_output, outputs, new_h, new_c, runtime = standard_lstm(\n\u001b[0;32m-> 1184\u001b[0;31m               **normal_lstm_kwargs)\n\u001b[0m\u001b[1;32m   1185\u001b[0m       \u001b[0;32melse\u001b[0m\u001b[0;34m:\u001b[0m\u001b[0;34m\u001b[0m\u001b[0;34m\u001b[0m\u001b[0m\n\u001b[1;32m   1186\u001b[0m         (last_output, outputs, new_h, new_c,\n",
            "\u001b[0;32m/usr/local/lib/python3.6/dist-packages/tensorflow/python/keras/layers/recurrent_v2.py\u001b[0m in \u001b[0;36mstandard_lstm\u001b[0;34m(inputs, init_h, init_c, kernel, recurrent_kernel, bias, activation, recurrent_activation, mask, time_major, go_backwards, sequence_lengths, zero_output_for_mask)\u001b[0m\n\u001b[1;32m   1318\u001b[0m       input_length=(sequence_lengths\n\u001b[1;32m   1319\u001b[0m                     if sequence_lengths is not None else timesteps),\n\u001b[0;32m-> 1320\u001b[0;31m       zero_output_for_mask=zero_output_for_mask)\n\u001b[0m\u001b[1;32m   1321\u001b[0m   return (last_output, outputs, new_states[0], new_states[1],\n\u001b[1;32m   1322\u001b[0m           _runtime(_RUNTIME_CPU))\n",
            "\u001b[0;32m/usr/local/lib/python3.6/dist-packages/tensorflow/python/keras/backend.py\u001b[0m in \u001b[0;36mrnn\u001b[0;34m(step_function, inputs, initial_states, go_backwards, mask, constants, unroll, input_length, time_major, zero_output_for_mask)\u001b[0m\n\u001b[1;32m   3949\u001b[0m \u001b[0;34m\u001b[0m\u001b[0m\n\u001b[1;32m   3950\u001b[0m   \u001b[0;32mif\u001b[0m \u001b[0;32mnot\u001b[0m \u001b[0mtime_major\u001b[0m\u001b[0;34m:\u001b[0m\u001b[0;34m\u001b[0m\u001b[0;34m\u001b[0m\u001b[0m\n\u001b[0;32m-> 3951\u001b[0;31m     \u001b[0minputs\u001b[0m \u001b[0;34m=\u001b[0m \u001b[0mnest\u001b[0m\u001b[0;34m.\u001b[0m\u001b[0mmap_structure\u001b[0m\u001b[0;34m(\u001b[0m\u001b[0mswap_batch_timestep\u001b[0m\u001b[0;34m,\u001b[0m \u001b[0minputs\u001b[0m\u001b[0;34m)\u001b[0m\u001b[0;34m\u001b[0m\u001b[0;34m\u001b[0m\u001b[0m\n\u001b[0m\u001b[1;32m   3952\u001b[0m \u001b[0;34m\u001b[0m\u001b[0m\n\u001b[1;32m   3953\u001b[0m   \u001b[0mflatted_inputs\u001b[0m \u001b[0;34m=\u001b[0m \u001b[0mnest\u001b[0m\u001b[0;34m.\u001b[0m\u001b[0mflatten\u001b[0m\u001b[0;34m(\u001b[0m\u001b[0minputs\u001b[0m\u001b[0;34m)\u001b[0m\u001b[0;34m\u001b[0m\u001b[0;34m\u001b[0m\u001b[0m\n",
            "\u001b[0;32m/usr/local/lib/python3.6/dist-packages/tensorflow/python/util/nest.py\u001b[0m in \u001b[0;36mmap_structure\u001b[0;34m(func, *structure, **kwargs)\u001b[0m\n\u001b[1;32m    615\u001b[0m \u001b[0;34m\u001b[0m\u001b[0m\n\u001b[1;32m    616\u001b[0m   return pack_sequence_as(\n\u001b[0;32m--> 617\u001b[0;31m       \u001b[0mstructure\u001b[0m\u001b[0;34m[\u001b[0m\u001b[0;36m0\u001b[0m\u001b[0;34m]\u001b[0m\u001b[0;34m,\u001b[0m \u001b[0;34m[\u001b[0m\u001b[0mfunc\u001b[0m\u001b[0;34m(\u001b[0m\u001b[0;34m*\u001b[0m\u001b[0mx\u001b[0m\u001b[0;34m)\u001b[0m \u001b[0;32mfor\u001b[0m \u001b[0mx\u001b[0m \u001b[0;32min\u001b[0m \u001b[0mentries\u001b[0m\u001b[0;34m]\u001b[0m\u001b[0;34m,\u001b[0m\u001b[0;34m\u001b[0m\u001b[0;34m\u001b[0m\u001b[0m\n\u001b[0m\u001b[1;32m    618\u001b[0m       expand_composites=expand_composites)\n\u001b[1;32m    619\u001b[0m \u001b[0;34m\u001b[0m\u001b[0m\n",
            "\u001b[0;32m/usr/local/lib/python3.6/dist-packages/tensorflow/python/util/nest.py\u001b[0m in \u001b[0;36m<listcomp>\u001b[0;34m(.0)\u001b[0m\n\u001b[1;32m    615\u001b[0m \u001b[0;34m\u001b[0m\u001b[0m\n\u001b[1;32m    616\u001b[0m   return pack_sequence_as(\n\u001b[0;32m--> 617\u001b[0;31m       \u001b[0mstructure\u001b[0m\u001b[0;34m[\u001b[0m\u001b[0;36m0\u001b[0m\u001b[0;34m]\u001b[0m\u001b[0;34m,\u001b[0m \u001b[0;34m[\u001b[0m\u001b[0mfunc\u001b[0m\u001b[0;34m(\u001b[0m\u001b[0;34m*\u001b[0m\u001b[0mx\u001b[0m\u001b[0;34m)\u001b[0m \u001b[0;32mfor\u001b[0m \u001b[0mx\u001b[0m \u001b[0;32min\u001b[0m \u001b[0mentries\u001b[0m\u001b[0;34m]\u001b[0m\u001b[0;34m,\u001b[0m\u001b[0;34m\u001b[0m\u001b[0;34m\u001b[0m\u001b[0m\n\u001b[0m\u001b[1;32m    618\u001b[0m       expand_composites=expand_composites)\n\u001b[1;32m    619\u001b[0m \u001b[0;34m\u001b[0m\u001b[0m\n",
            "\u001b[0;32m/usr/local/lib/python3.6/dist-packages/tensorflow/python/keras/backend.py\u001b[0m in \u001b[0;36mswap_batch_timestep\u001b[0;34m(input_t)\u001b[0m\n\u001b[1;32m   3946\u001b[0m     \u001b[0maxes\u001b[0m \u001b[0;34m=\u001b[0m \u001b[0mlist\u001b[0m\u001b[0;34m(\u001b[0m\u001b[0mrange\u001b[0m\u001b[0;34m(\u001b[0m\u001b[0mlen\u001b[0m\u001b[0;34m(\u001b[0m\u001b[0minput_t\u001b[0m\u001b[0;34m.\u001b[0m\u001b[0mshape\u001b[0m\u001b[0;34m)\u001b[0m\u001b[0;34m)\u001b[0m\u001b[0;34m)\u001b[0m\u001b[0;34m\u001b[0m\u001b[0;34m\u001b[0m\u001b[0m\n\u001b[1;32m   3947\u001b[0m     \u001b[0maxes\u001b[0m\u001b[0;34m[\u001b[0m\u001b[0;36m0\u001b[0m\u001b[0;34m]\u001b[0m\u001b[0;34m,\u001b[0m \u001b[0maxes\u001b[0m\u001b[0;34m[\u001b[0m\u001b[0;36m1\u001b[0m\u001b[0;34m]\u001b[0m \u001b[0;34m=\u001b[0m \u001b[0;36m1\u001b[0m\u001b[0;34m,\u001b[0m \u001b[0;36m0\u001b[0m\u001b[0;34m\u001b[0m\u001b[0;34m\u001b[0m\u001b[0m\n\u001b[0;32m-> 3948\u001b[0;31m     \u001b[0;32mreturn\u001b[0m \u001b[0marray_ops\u001b[0m\u001b[0;34m.\u001b[0m\u001b[0mtranspose\u001b[0m\u001b[0;34m(\u001b[0m\u001b[0minput_t\u001b[0m\u001b[0;34m,\u001b[0m \u001b[0maxes\u001b[0m\u001b[0;34m)\u001b[0m\u001b[0;34m\u001b[0m\u001b[0;34m\u001b[0m\u001b[0m\n\u001b[0m\u001b[1;32m   3949\u001b[0m \u001b[0;34m\u001b[0m\u001b[0m\n\u001b[1;32m   3950\u001b[0m   \u001b[0;32mif\u001b[0m \u001b[0;32mnot\u001b[0m \u001b[0mtime_major\u001b[0m\u001b[0;34m:\u001b[0m\u001b[0;34m\u001b[0m\u001b[0;34m\u001b[0m\u001b[0m\n",
            "\u001b[0;32m/usr/local/lib/python3.6/dist-packages/tensorflow/python/ops/array_ops.py\u001b[0m in \u001b[0;36mtranspose\u001b[0;34m(a, perm, name, conjugate)\u001b[0m\n\u001b[1;32m   2120\u001b[0m \u001b[0;34m\u001b[0m\u001b[0m\n\u001b[1;32m   2121\u001b[0m     \u001b[0;32mif\u001b[0m \u001b[0mperm\u001b[0m \u001b[0;32mis\u001b[0m \u001b[0;32mnot\u001b[0m \u001b[0;32mNone\u001b[0m\u001b[0;34m:\u001b[0m\u001b[0;34m\u001b[0m\u001b[0;34m\u001b[0m\u001b[0m\n\u001b[0;32m-> 2122\u001b[0;31m       \u001b[0;32mreturn\u001b[0m \u001b[0mtranspose_fn\u001b[0m\u001b[0;34m(\u001b[0m\u001b[0ma\u001b[0m\u001b[0;34m,\u001b[0m \u001b[0mperm\u001b[0m\u001b[0;34m,\u001b[0m \u001b[0mname\u001b[0m\u001b[0;34m=\u001b[0m\u001b[0mname\u001b[0m\u001b[0;34m)\u001b[0m\u001b[0;34m\u001b[0m\u001b[0;34m\u001b[0m\u001b[0m\n\u001b[0m\u001b[1;32m   2123\u001b[0m \u001b[0;34m\u001b[0m\u001b[0m\n\u001b[1;32m   2124\u001b[0m     \u001b[0mrank\u001b[0m \u001b[0;34m=\u001b[0m \u001b[0ma\u001b[0m\u001b[0;34m.\u001b[0m\u001b[0mshape\u001b[0m\u001b[0;34m.\u001b[0m\u001b[0mrank\u001b[0m\u001b[0;34m\u001b[0m\u001b[0;34m\u001b[0m\u001b[0m\n",
            "\u001b[0;32m/usr/local/lib/python3.6/dist-packages/tensorflow/python/ops/gen_array_ops.py\u001b[0m in \u001b[0;36mtranspose\u001b[0;34m(x, perm, name)\u001b[0m\n\u001b[1;32m  11172\u001b[0m       \u001b[0;32mtry\u001b[0m\u001b[0;34m:\u001b[0m\u001b[0;34m\u001b[0m\u001b[0;34m\u001b[0m\u001b[0m\n\u001b[1;32m  11173\u001b[0m         return transpose_eager_fallback(\n\u001b[0;32m> 11174\u001b[0;31m             x, perm, name=name, ctx=_ctx)\n\u001b[0m\u001b[1;32m  11175\u001b[0m       \u001b[0;32mexcept\u001b[0m \u001b[0m_core\u001b[0m\u001b[0;34m.\u001b[0m\u001b[0m_SymbolicException\u001b[0m\u001b[0;34m:\u001b[0m\u001b[0;34m\u001b[0m\u001b[0;34m\u001b[0m\u001b[0m\n\u001b[1;32m  11176\u001b[0m         \u001b[0;32mpass\u001b[0m  \u001b[0;31m# Add nodes to the TensorFlow graph.\u001b[0m\u001b[0;34m\u001b[0m\u001b[0;34m\u001b[0m\u001b[0m\n",
            "\u001b[0;32m/usr/local/lib/python3.6/dist-packages/tensorflow/python/ops/gen_array_ops.py\u001b[0m in \u001b[0;36mtranspose_eager_fallback\u001b[0;34m(x, perm, name, ctx)\u001b[0m\n\u001b[1;32m  11194\u001b[0m \u001b[0;34m\u001b[0m\u001b[0m\n\u001b[1;32m  11195\u001b[0m \u001b[0;32mdef\u001b[0m \u001b[0mtranspose_eager_fallback\u001b[0m\u001b[0;34m(\u001b[0m\u001b[0mx\u001b[0m\u001b[0;34m,\u001b[0m \u001b[0mperm\u001b[0m\u001b[0;34m,\u001b[0m \u001b[0mname\u001b[0m\u001b[0;34m,\u001b[0m \u001b[0mctx\u001b[0m\u001b[0;34m)\u001b[0m\u001b[0;34m:\u001b[0m\u001b[0;34m\u001b[0m\u001b[0;34m\u001b[0m\u001b[0m\n\u001b[0;32m> 11196\u001b[0;31m   \u001b[0m_attr_T\u001b[0m\u001b[0;34m,\u001b[0m \u001b[0;34m(\u001b[0m\u001b[0mx\u001b[0m\u001b[0;34m,\u001b[0m\u001b[0;34m)\u001b[0m \u001b[0;34m=\u001b[0m \u001b[0m_execute\u001b[0m\u001b[0;34m.\u001b[0m\u001b[0margs_to_matching_eager\u001b[0m\u001b[0;34m(\u001b[0m\u001b[0;34m[\u001b[0m\u001b[0mx\u001b[0m\u001b[0;34m]\u001b[0m\u001b[0;34m,\u001b[0m \u001b[0mctx\u001b[0m\u001b[0;34m)\u001b[0m\u001b[0;34m\u001b[0m\u001b[0;34m\u001b[0m\u001b[0m\n\u001b[0m\u001b[1;32m  11197\u001b[0m   \u001b[0m_attr_Tperm\u001b[0m\u001b[0;34m,\u001b[0m \u001b[0;34m(\u001b[0m\u001b[0mperm\u001b[0m\u001b[0;34m,\u001b[0m\u001b[0;34m)\u001b[0m \u001b[0;34m=\u001b[0m \u001b[0m_execute\u001b[0m\u001b[0;34m.\u001b[0m\u001b[0margs_to_matching_eager\u001b[0m\u001b[0;34m(\u001b[0m\u001b[0;34m[\u001b[0m\u001b[0mperm\u001b[0m\u001b[0;34m]\u001b[0m\u001b[0;34m,\u001b[0m \u001b[0mctx\u001b[0m\u001b[0;34m,\u001b[0m \u001b[0m_dtypes\u001b[0m\u001b[0;34m.\u001b[0m\u001b[0mint32\u001b[0m\u001b[0;34m)\u001b[0m\u001b[0;34m\u001b[0m\u001b[0;34m\u001b[0m\u001b[0m\n\u001b[1;32m  11198\u001b[0m   \u001b[0m_inputs_flat\u001b[0m \u001b[0;34m=\u001b[0m \u001b[0;34m[\u001b[0m\u001b[0mx\u001b[0m\u001b[0;34m,\u001b[0m \u001b[0mperm\u001b[0m\u001b[0;34m]\u001b[0m\u001b[0;34m\u001b[0m\u001b[0;34m\u001b[0m\u001b[0m\n",
            "\u001b[0;31mKeyboardInterrupt\u001b[0m: "
          ]
        }
      ]
    },
    {
      "cell_type": "code",
      "metadata": {
        "id": "EBbXTLA7VpCV",
        "colab_type": "code",
        "colab": {}
      },
      "source": [
        "folder_id = '1fxDxf14ZuxOQVKmP4qKKIQI1ZOqMO8a7'\n",
        "model_name = \"CNN_LSTM_4\""
      ],
      "execution_count": null,
      "outputs": []
    },
    {
      "cell_type": "code",
      "metadata": {
        "id": "o1HNNzErYiIz",
        "colab_type": "code",
        "colab": {
          "base_uri": "https://localhost:8080/",
          "height": 67
        },
        "outputId": "bf2b6c01-8fd1-4e95-fa23-1b15ad9425e9"
      },
      "source": [
        "# serialize model to JSON\n",
        "model_json = model.to_json()\n",
        "with open(model_name+\".json\", \"w\") as json_file:\n",
        "    json_file.write(model_json)\n",
        "# serialize weights to HDF5\n",
        "model.save_weights(model_name+\".h5\")\n",
        "print(\"Saved model to disk\")\n",
        "files = []\n",
        "files.append(model_name+'.json')\n",
        "files.append(model_name+'.h5')\n",
        "upload_files(drive, folder_id, files)\n"
      ],
      "execution_count": null,
      "outputs": [
        {
          "output_type": "stream",
          "text": [
            "Saved model to disk\n",
            "Uploading CNN_LSTM_4.json\n",
            "Uploading CNN_LSTM_4.h5\n"
          ],
          "name": "stdout"
        }
      ]
    },
    {
      "cell_type": "code",
      "metadata": {
        "id": "st8yfbEMRrcR",
        "colab_type": "code",
        "colab": {
          "base_uri": "https://localhost:8080/",
          "height": 137
        },
        "outputId": "2c0340c9-707d-472a-f139-1156bfa19efa"
      },
      "source": [
        "temperature = 1.2\n",
        "# load json and create model\n",
        "files = []\n",
        "files.append(model_name+'.json')\n",
        "files.append(model_name+'.h5')\n",
        "files_loaded  = load_files(files)\n",
        "json_file = open('/root/data/' + model_name + '.json', 'r')\n",
        "loaded_model_json = json_file.read()\n",
        "json_file.close()\n",
        "model = tf.keras.models.model_from_json(loaded_model_json)\n",
        "\n",
        "# load weights into new model\n",
        "model.load_weights('/root/data/' + model_name + '.h5')\n",
        "print(\"Loaded model from disk\")\n",
        "\n",
        "'''\n",
        "# evaluate loaded model on test data\n",
        "loaded_model.compile ( loss='categorical_crossentropy' , optimizer='adam' , metrics = ['accuracy'] )\n",
        "scores=loaded_model.evaluate(test_images, test_labels)\n",
        "print(\"\\n%s: %.2f%%\" % (loaded_model.metrics_names[1] , scores[1]*100) )\n",
        "'''"
      ],
      "execution_count": null,
      "outputs": [
        {
          "output_type": "stream",
          "text": [
            "title: CNN_LSTM_4.h5, id: 1u-aVO0AWaGhr4kZhzelIxfFxPWus2SF6\n",
            "downloading to /root/data/CNN_LSTM_4.h5\n",
            "title: CNN_LSTM_4.json, id: 1LuEw2KqdjFThVQJIv9wFa_djQELdQ1mW\n",
            "downloading to /root/data/CNN_LSTM_4.json\n",
            "Loaded model from disk\n"
          ],
          "name": "stdout"
        },
        {
          "output_type": "execute_result",
          "data": {
            "text/plain": [
              "'\\n# evaluate loaded model on test data\\nloaded_model.compile ( loss=\\'categorical_crossentropy\\' , optimizer=\\'adam\\' , metrics = [\\'accuracy\\'] )\\nscores=loaded_model.evaluate(test_images, test_labels)\\nprint(\"\\n%s: %.2f%%\" % (loaded_model.metrics_names[1] , scores[1]*100) )\\n'"
            ]
          },
          "metadata": {
            "tags": []
          },
          "execution_count": 10
        }
      ]
    },
    {
      "cell_type": "code",
      "metadata": {
        "id": "NYyChyLlv-25",
        "colab_type": "code",
        "colab": {
          "base_uri": "https://localhost:8080/",
          "height": 33
        },
        "outputId": "6de8a33c-6dc9-4f82-e3f3-4d903fa16db2"
      },
      "source": [
        "#Test\n",
        "fb_imgs = dict()\n",
        "fb_labels = dict()\n",
        "\n",
        "# Iterate over the batches of a dataset.\n",
        "for step, (x, y) in enumerate(zip(test_images, test_labels)):\n",
        "\n",
        "  x = x.reshape(1, 28, 28, 1) #batch size equals 1\n",
        "  probs = model(x)\n",
        "\n",
        "  i=0\n",
        "  input_LSTM = x\n",
        "  for n in range(0,5):\n",
        "    output = model.layers[n](input_LSTM)\n",
        "    input_LSTM = output\n",
        "  while np.random.uniform(0,1) < 1-tf.reduce_max(probs):\n",
        "    for n in range(5,11):\n",
        "      if n == 5:\n",
        "        output = model.layers[n](input_LSTM)  \n",
        "      else:\n",
        "        output = model.layers[n](input)\n",
        "      input = output\n",
        "        \n",
        "    probs = output\n",
        "    i = i+1\n",
        "      \n",
        "  if (i in fb_imgs):\n",
        "    fb_imgs[i].append(x.reshape(28,28))\n",
        "  else:\n",
        "    fb_imgs[i] = [x.reshape(28,28)]\n",
        "\n",
        "  if (i in fb_labels):\n",
        "    fb_labels[i].append(np.argmax(y))\n",
        "  else:\n",
        "    fb_labels[i] = [np.argmax(y)]\n",
        "\n",
        "  model.reset_states()\n",
        "\n",
        "  # Compute the loss value for this batch.\n",
        "  y = y.reshape(1,10)\n",
        "  loss_value = loss_fn(y, probs)\n",
        "\n",
        "  # Update the state of the `accuracy` metric.\n",
        "  accuracy.update_state(y, probs)\n",
        "\n",
        "\n",
        "print('Test accuracy: %.3f' % accuracy.result())"
      ],
      "execution_count": null,
      "outputs": [
        {
          "output_type": "stream",
          "text": [
            "Test accuracy: 0.788\n"
          ],
          "name": "stdout"
        }
      ]
    },
    {
      "cell_type": "code",
      "metadata": {
        "id": "MdsXw9074gIE",
        "colab_type": "code",
        "colab": {}
      },
      "source": [
        "import collections\n",
        "\n",
        "fb_labels = collections.OrderedDict(sorted(fb_labels.items()))\n",
        "class_names = {0: 'Top', 1: 'Trouser', 2: 'Pullover', 3: 'Dress', 4: 'Coat',\n",
        "               5: 'Sandal', 6: 'Shirt', 7: 'Sneaker', 8: 'Bag', 9: 'Ankle boot'}\n",
        "\n",
        "fb_percent = dict()\n",
        "for c in fb_labels.keys():\n",
        "  fb_percent[c] = {}\n",
        "  for i in range(0,10):\n",
        "    fb_percent[c][class_names[i]] =round ( (fb_labels[c].count(i) / len(fb_labels[c])) * 100, 2 )"
      ],
      "execution_count": null,
      "outputs": []
    },
    {
      "cell_type": "code",
      "metadata": {
        "id": "5jycF6wseAJs",
        "colab_type": "code",
        "colab": {
          "base_uri": "https://localhost:8080/",
          "height": 53
        },
        "outputId": "6b12df57-eac2-4130-e6a3-9c01bc0745ad"
      },
      "source": [
        "print(fb_percent)"
      ],
      "execution_count": null,
      "outputs": [
        {
          "output_type": "stream",
          "text": [
            "{0: {'Top': 9.51, 'Trouser': 11.88, 'Pullover': 8.5, 'Dress': 9.67, 'Coat': 7.97, 'Sandal': 11.39, 'Shirt': 7.47, 'Sneaker': 10.46, 'Bag': 11.48, 'Ankle boot': 11.68}, 1: {'Top': 13.08, 'Trouser': 2.26, 'Pullover': 16.9, 'Dress': 10.83, 'Coat': 16.74, 'Sandal': 5.3, 'Shirt': 17.99, 'Sneaker': 8.49, 'Bag': 4.44, 'Ankle boot': 3.97}, 2: {'Top': 10.26, 'Trouser': 3.1, 'Pullover': 15.27, 'Dress': 11.46, 'Coat': 18.85, 'Sandal': 3.1, 'Shirt': 23.87, 'Sneaker': 8.11, 'Bag': 2.86, 'Ankle boot': 3.1}, 3: {'Top': 8.48, 'Trouser': 4.24, 'Pullover': 13.94, 'Dress': 9.7, 'Coat': 19.39, 'Sandal': 3.03, 'Shirt': 25.45, 'Sneaker': 7.88, 'Bag': 5.45, 'Ankle boot': 2.42}, 4: {'Top': 11.54, 'Trouser': 1.28, 'Pullover': 11.54, 'Dress': 12.82, 'Coat': 24.36, 'Sandal': 2.56, 'Shirt': 25.64, 'Sneaker': 6.41, 'Bag': 3.85, 'Ankle boot': 0.0}, 5: {'Top': 7.32, 'Trouser': 2.44, 'Pullover': 9.76, 'Dress': 26.83, 'Coat': 26.83, 'Sandal': 2.44, 'Shirt': 14.63, 'Sneaker': 7.32, 'Bag': 2.44, 'Ankle boot': 0.0}, 6: {'Top': 13.33, 'Trouser': 0.0, 'Pullover': 20.0, 'Dress': 6.67, 'Coat': 13.33, 'Sandal': 13.33, 'Shirt': 20.0, 'Sneaker': 0.0, 'Bag': 13.33, 'Ankle boot': 0.0}, 7: {'Top': 33.33, 'Trouser': 0.0, 'Pullover': 0.0, 'Dress': 16.67, 'Coat': 33.33, 'Sandal': 0.0, 'Shirt': 0.0, 'Sneaker': 16.67, 'Bag': 0.0, 'Ankle boot': 0.0}, 8: {'Top': 0.0, 'Trouser': 0.0, 'Pullover': 0.0, 'Dress': 50.0, 'Coat': 50.0, 'Sandal': 0.0, 'Shirt': 0.0, 'Sneaker': 0.0, 'Bag': 0.0, 'Ankle boot': 0.0}, 10: {'Top': 0.0, 'Trouser': 0.0, 'Pullover': 40.0, 'Dress': 0.0, 'Coat': 40.0, 'Sandal': 0.0, 'Shirt': 20.0, 'Sneaker': 0.0, 'Bag': 0.0, 'Ankle boot': 0.0}, 11: {'Top': 0.0, 'Trouser': 0.0, 'Pullover': 0.0, 'Dress': 0.0, 'Coat': 0.0, 'Sandal': 0.0, 'Shirt': 100.0, 'Sneaker': 0.0, 'Bag': 0.0, 'Ankle boot': 0.0}, 12: {'Top': 0.0, 'Trouser': 100.0, 'Pullover': 0.0, 'Dress': 0.0, 'Coat': 0.0, 'Sandal': 0.0, 'Shirt': 0.0, 'Sneaker': 0.0, 'Bag': 0.0, 'Ankle boot': 0.0}}\n"
          ],
          "name": "stdout"
        }
      ]
    },
    {
      "cell_type": "code",
      "metadata": {
        "id": "WY3yurpTkY1Y",
        "colab_type": "code",
        "colab": {}
      },
      "source": [
        "class_percent = dict()\n",
        "for c in range(0,10):\n",
        "  class_percent[class_names[c]] = {}\n",
        "  for i in fb_labels.keys():\n",
        "    class_percent[class_names[c]][i] =round ( (fb_labels[i].count(c) / 10) , 2 )\n"
      ],
      "execution_count": null,
      "outputs": []
    },
    {
      "cell_type": "code",
      "metadata": {
        "id": "HTa9FtsMmxTc",
        "colab_type": "code",
        "colab": {
          "base_uri": "https://localhost:8080/",
          "height": 53
        },
        "outputId": "ba4b57e7-6f2e-4d15-9085-d9897c9c0eb7"
      },
      "source": [
        "print(class_percent)"
      ],
      "execution_count": null,
      "outputs": [
        {
          "output_type": "stream",
          "text": [
            "{'Top': {0: 75.9, 1: 16.8, 2: 4.3, 3: 1.4, 4: 0.9, 5: 0.3, 6: 0.2, 7: 0.2, 8: 0.0, 10: 0.0, 11: 0.0, 12: 0.0}, 'Trouser': {0: 94.8, 1: 2.9, 2: 1.3, 3: 0.7, 4: 0.1, 5: 0.1, 6: 0.0, 7: 0.0, 8: 0.0, 10: 0.0, 11: 0.0, 12: 0.1}, 'Pullover': {0: 67.8, 1: 21.7, 2: 6.4, 3: 2.3, 4: 0.9, 5: 0.4, 6: 0.3, 7: 0.0, 8: 0.0, 10: 0.2, 11: 0.0, 12: 0.0}, 'Dress': {0: 77.2, 1: 13.9, 2: 4.8, 3: 1.6, 4: 1.0, 5: 1.1, 6: 0.1, 7: 0.1, 8: 0.2, 10: 0.0, 11: 0.0, 12: 0.0}, 'Coat': {0: 63.6, 1: 21.5, 2: 7.9, 3: 3.2, 4: 1.9, 5: 1.1, 6: 0.2, 7: 0.2, 8: 0.2, 10: 0.2, 11: 0.0, 12: 0.0}, 'Sandal': {0: 90.9, 1: 6.8, 2: 1.3, 3: 0.5, 4: 0.2, 5: 0.1, 6: 0.2, 7: 0.0, 8: 0.0, 10: 0.0, 11: 0.0, 12: 0.0}, 'Shirt': {0: 59.6, 1: 23.1, 2: 10.0, 3: 4.2, 4: 2.0, 5: 0.6, 6: 0.3, 7: 0.0, 8: 0.0, 10: 0.1, 11: 0.1, 12: 0.0}, 'Sneaker': {0: 83.5, 1: 10.9, 2: 3.4, 3: 1.3, 4: 0.5, 5: 0.3, 6: 0.0, 7: 0.1, 8: 0.0, 10: 0.0, 11: 0.0, 12: 0.0}, 'Bag': {0: 91.6, 1: 5.7, 2: 1.2, 3: 0.9, 4: 0.3, 5: 0.1, 6: 0.2, 7: 0.0, 8: 0.0, 10: 0.0, 11: 0.0, 12: 0.0}, 'Ankle boot': {0: 93.2, 1: 5.1, 2: 1.3, 3: 0.4, 4: 0.0, 5: 0.0, 6: 0.0, 7: 0.0, 8: 0.0, 10: 0.0, 11: 0.0, 12: 0.0}}\n"
          ],
          "name": "stdout"
        }
      ]
    },
    {
      "cell_type": "code",
      "metadata": {
        "id": "etkbYWzMC1Fs",
        "colab_type": "code",
        "colab": {
          "base_uri": "https://localhost:8080/",
          "height": 636
        },
        "outputId": "3a587fc1-5a42-4151-dc8e-f40eef2380ef"
      },
      "source": [
        "import matplotlib.pyplot as plt\n",
        "\n",
        "fig = plt.figure(figsize=(25,10))\n",
        "fig.subplots_adjust(hspace=0.5, wspace=0.4)\n",
        "p = 1\n",
        "for i in fb_percent.keys():\n",
        "  a=plt.subplot(3,4,p)\n",
        "  a.bar(fb_percent[i].keys(), fb_percent[i].values(), width=0.5)\n",
        "  a.set_xlabel('Class')\n",
        "  plt.xticks(rotation=25)\n",
        "  a.set_ylabel('No. of samples in %')\n",
        "  a.set_title(str(i) + ' Feedbacks')\n",
        "  p+=1\n",
        "\n",
        "\n",
        "plt.show()"
      ],
      "execution_count": null,
      "outputs": [
        {
          "output_type": "display_data",
          "data": {
            "image/png": "[encoded data removed]",
            "text/plain": [
              "<Figure size 1800x720 with 12 Axes>"
            ]
          },
          "metadata": {
            "tags": []
          }
        }
      ]
    },
    {
      "cell_type": "code",
      "metadata": {
        "id": "GMYN2AHRneko",
        "colab_type": "code",
        "colab": {
          "base_uri": "https://localhost:8080/",
          "height": 617
        },
        "outputId": "4fa8728e-56ea-4d1b-8547-36cf29b02b41"
      },
      "source": [
        "fig = plt.figure(figsize=(25,10))\n",
        "fig.subplots_adjust(hspace=0.5, wspace=0.3)\n",
        "p = 1\n",
        "for i in class_percent.keys():\n",
        "  a=plt.subplot(3,4,p)\n",
        "  a.bar(class_percent[i].keys(), class_percent[i].values(), width=0.5)\n",
        "  a.set_xlabel('No. of Feedbacks')\n",
        "  plt.xticks(range(0,13))\n",
        "  a.set_ylabel('No. of samples in %')\n",
        "  a.set_title(i)\n",
        "  p+=1\n",
        "\n",
        "\n",
        "plt.show()"
      ],
      "execution_count": null,
      "outputs": [
        {
          "output_type": "display_data",
          "data": {
            "image/png": "[encoded data removed]",
            "text/plain": [
              "<Figure size 1800x720 with 10 Axes>"
            ]
          },
          "metadata": {
            "tags": []
          }
        }
      ]
    },
    {
      "cell_type": "code",
      "metadata": {
        "id": "CVhqLGjO8iRa",
        "colab_type": "code",
        "colab": {}
      },
      "source": [
        "import numpy as np\n",
        "\n",
        "x_range = np.unique(np.array(n_feedback))\n",
        "heights = np.zeros(x_range.size)\n",
        "\n",
        "for element in n_feedback:\n",
        "  heights[np.where(x_range == element)[0][0]] = heights[np.where(x_range == element)[0][0]] + 1"
      ],
      "execution_count": null,
      "outputs": []
    },
    {
      "cell_type": "code",
      "metadata": {
        "id": "rZqrNBPKBJgX",
        "colab_type": "code",
        "colab": {
          "base_uri": "https://localhost:8080/",
          "height": 117
        },
        "outputId": "0f7ecd87-40f9-4f56-9be5-06118da4ea23"
      },
      "source": [
        "print(x_range)\n",
        "print(heights)\n",
        "\n",
        "x_range = x_range[:8]\n",
        "\n",
        "modified_heights = heights[:7]\n",
        "modified_heights = np.append(modified_heights, np.sum(heights[7:]))\n"
      ],
      "execution_count": null,
      "outputs": [
        {
          "output_type": "stream",
          "text": [
            "[0 1 2 3 4 5 6 7]\n",
            "[6.582e+03 1.147e+03 1.360e+02 3.700e+01 5.700e+01 3.320e+02 1.663e+03\n",
            " 1.500e+01 1.000e+00 4.000e+00 1.000e+00 2.000e+00 1.000e+00 1.000e+00\n",
            " 1.000e+00 1.000e+00 1.000e+00 1.000e+00 1.000e+00 1.000e+00 1.000e+00\n",
            " 1.000e+00 1.000e+00 1.000e+00 1.000e+00 1.000e+00 1.000e+00 1.000e+00\n",
            " 1.000e+00 1.000e+00 1.000e+00 1.000e+00 1.000e+00 1.000e+00 1.000e+00]\n"
          ],
          "name": "stdout"
        }
      ]
    },
    {
      "cell_type": "code",
      "metadata": {
        "id": "gnXMzK54Ia2R",
        "colab_type": "code",
        "colab": {}
      },
      "source": [
        "modified_heights = (modified_heights / len(test_images)) * 100"
      ],
      "execution_count": null,
      "outputs": []
    },
    {
      "cell_type": "code",
      "metadata": {
        "id": "z3k6kwAz60d8",
        "colab_type": "code",
        "colab": {
          "base_uri": "https://localhost:8080/",
          "height": 350
        },
        "outputId": "c63387a7-412d-4640-80a7-21c6a07a0c31"
      },
      "source": [
        "import matplotlib.pyplot as plt\n",
        "fig = plt.figure()\n",
        "ax = fig.add_axes([0,0,1,1])\n",
        "ax.bar(x_range, modified_heights, width=0.5)\n",
        "ax.set_xticklabels(('0','0', '1', '2', '3', '4', '5', '6', '8 - 8202'))\n",
        "ax.set_xlabel('No. of feedback loops into LSTM')\n",
        "ax.set_ylabel('No. of samples in %')\n",
        "plt.show()"
      ],
      "execution_count": null,
      "outputs": [
        {
          "output_type": "display_data",
          "data": {
            "image/png": "[encoded data removed]",
            "text/plain": [
              "<Figure size 432x288 with 1 Axes>"
            ]
          },
          "metadata": {
            "tags": [],
            "needs_background": "light"
          }
        }
      ]
    },
    {
      "cell_type": "code",
      "metadata": {
        "id": "0j_-ciox3zX6",
        "colab_type": "code",
        "colab": {}
      },
      "source": [
        "model.compile(optimizer='adam',\n",
        "              loss=tf.keras.losses.categorical_crossentropy,\n",
        "              metrics=['accuracy'])"
      ],
      "execution_count": null,
      "outputs": []
    },
    {
      "cell_type": "code",
      "metadata": {
        "id": "BJzxOis738hR",
        "colab_type": "code",
        "colab": {
          "base_uri": "https://localhost:8080/",
          "height": 33
        },
        "outputId": "2d7f7542-93c2-4c76-91d8-7f9a55bc4b02"
      },
      "source": [
        "test_loss, test_acc = model.evaluate(test_images, test_labels, verbose=0, batch_size = 1)\n",
        "print('Test accuracy', test_acc)"
      ],
      "execution_count": null,
      "outputs": [
        {
          "output_type": "stream",
          "text": [
            "Test accuracy 0.4699000120162964\n"
          ],
          "name": "stdout"
        }
      ]
    },
    {
      "cell_type": "code",
      "metadata": {
        "id": "DJHlgyOAb9zB",
        "colab_type": "code",
        "colab": {}
      },
      "source": [
        "model.reset_states()"
      ],
      "execution_count": null,
      "outputs": []
    },
    {
      "cell_type": "code",
      "metadata": {
        "id": "Vd4TTB2dVr7a",
        "colab_type": "code",
        "colab": {
          "base_uri": "https://localhost:8080/",
          "height": 70
        },
        "outputId": "5b141882-43c1-4b4e-bdd4-844c77ec978b"
      },
      "source": [
        "'''input1 = train_images[0].reshape(1,28,28,1)\n",
        "for n in range(0,5):\n",
        "  output = model.layers[n](input1)\n",
        "  input1 = output\n",
        "print(tf.reduce_max(output))\n",
        "print()'''\n",
        "\n",
        "for n in range(5,10):\n",
        "  if n == 5:\n",
        "    output = model.layers[n](input1)\n",
        "  else:\n",
        "    output = model.layers[n](input)\n",
        "  input = output\n",
        "print(tf.reduce_max(output))\n",
        "'''\n",
        "while tf.reduce_max(output) < 0.999:\n",
        "  print(tf.reduce_max(output))\n",
        "  for n in range(5,10):\n",
        "    if n == 5:\n",
        "      output = model.layers[n](input1)\n",
        "    else:\n",
        "      output = model.layers[n](input)\n",
        "    input = output\n",
        "\n",
        "print(tf.reduce_max(output))\n",
        "'''\n",
        "\n"
      ],
      "execution_count": null,
      "outputs": [
        {
          "output_type": "stream",
          "text": [
            "tf.Tensor(0.9250483, shape=(), dtype=float32)\n"
          ],
          "name": "stdout"
        },
        {
          "output_type": "execute_result",
          "data": {
            "text/plain": [
              "'\\nwhile tf.reduce_max(output) < 0.999:\\n  print(tf.reduce_max(output))\\n  for n in range(5,10):\\n    if n == 5:\\n      output = model.layers[n](input1)\\n    else:\\n      output = model.layers[n](input)\\n    input = output\\n\\nprint(tf.reduce_max(output))\\n'"
            ]
          },
          "metadata": {
            "tags": []
          },
          "execution_count": 80
        }
      ]
    }
  ]
}